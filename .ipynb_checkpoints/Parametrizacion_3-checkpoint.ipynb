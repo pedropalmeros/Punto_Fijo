{
 "cells": [
  {
   "cell_type": "markdown",
   "metadata": {},
   "source": [
    "Analizando la parametrizaci'on \n",
    "\n",
    "$x=g(x)=\\sqrt{2x+3}$"
   ]
  },
  {
   "cell_type": "code",
   "execution_count": 1,
   "metadata": {},
   "outputs": [],
   "source": [
    "\n",
    "import matplotlib.pyplot as plt\n",
    "plt.style.use('classic')\n",
    "\n",
    "%matplotlib inline"
   ]
  },
  {
   "cell_type": "code",
   "execution_count": 2,
   "metadata": {},
   "outputs": [],
   "source": [
    "def f2(x):\n",
    "    return (2*x+3)**(1/2)"
   ]
  },
  {
   "cell_type": "code",
   "execution_count": 4,
   "metadata": {},
   "outputs": [],
   "source": [
    "def punto_fijo(x_init,max_iter = 50, error = 0.0001):\n",
    "    x_vec = []\n",
    "    e_vec = []\n",
    "    x_vec.append(x_init)\n",
    "    e_vec.append(1)\n",
    "    cuenta = 0\n",
    "    while cuenta <= max_iter:\n",
    "        x_vec.append(f2(x_vec[cuenta]))\n",
    "        e_act = abs(x_vec[cuenta+1]-x_vec[cuenta])\n",
    "        e_vec.append(e_act)\n",
    "        if(e_act <= error):\n",
    "            break\n",
    "        cuenta +=1\n",
    "    \n",
    "    return [x_vec,e_vec]\n",
    "        \n",
    "        "
   ]
  },
  {
   "cell_type": "code",
   "execution_count": 5,
   "metadata": {},
   "outputs": [],
   "source": [
    "x,e=punto_fijo(0)"
   ]
  },
  {
   "cell_type": "code",
   "execution_count": 6,
   "metadata": {
    "scrolled": true
   },
   "outputs": [
    {
     "data": {
      "image/png": "[encoded data removed]",
      "text/plain": [
       "<Figure size 432x288 with 1 Axes>"
      ]
     },
     "metadata": {
      "needs_background": "light"
     },
     "output_type": "display_data"
    }
   ],
   "source": [
    "plt.plot(x, label='raiz')\n",
    "plt.plot(e, label='error')\n",
    "plt.grid(True)\n",
    "plt.xlabel('Iteraciones')\n",
    "plt.show()"
   ]
  },
  {
   "cell_type": "code",
   "execution_count": null,
   "metadata": {},
   "outputs": [],
   "source": []
  }
 ],
 "metadata": {
  "kernelspec": {
   "display_name": "Python 3",
   "language": "python",
   "name": "python3"
  },
  "language_info": {
   "codemirror_mode": {
    "name": "ipython",
    "version": 3
   },
   "file_extension": ".py",
   "mimetype": "text/x-python",
   "name": "python",
   "nbconvert_exporter": "python",
   "pygments_lexer": "ipython3",
   "version": "3.7.8"
  }
 },
 "nbformat": 4,
 "nbformat_minor": 4
}
